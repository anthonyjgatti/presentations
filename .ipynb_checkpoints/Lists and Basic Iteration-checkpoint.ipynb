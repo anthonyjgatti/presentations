{
 "cells": [
  {
   "cell_type": "markdown",
   "metadata": {},
   "source": [
    "<img src=\"http://ascension.org/-/media/Images/Ascension/Standalone-Images/ascensionLogo.ashx?h=108&w=432&la=en&hash=A13B391959A96389BCBB19520362A79F06D754E2\">\n",
    "\n",
    "## Basics of Lists and Iteration in Python\n",
    "\n",
    "Anthony Gatti (Email: <mailto:anthony.j.gatti@gmail.com>)\n",
    "\n",
    "This is a presentation given to the Ascension Python User's Group on March 21, 2017. This is a general introduction to lists and iteration over lists in Python. Please consult the [Python documentation](https://docs.python.org/3/index.html) for this and much more information - it is far superior and more thorough than what is below (and was written by the people who created this stuff).\n",
    "\n",
    "The best book on this topic (and many others) I have found is [Fluent Python](http://shop.oreilly.com/product/0636920032519.do) by Luciano Ramalho. The classic on the topic is [The Python Cookbook](http://shop.oreilly.com/product/9780596001674.do) by Alex Martelli and David Ascher.\n",
    "\n",
    "This [Jupyter notebook](http://jupyter.org/) runs Python 3.5."
   ]
  },
  {
   "cell_type": "markdown",
   "metadata": {},
   "source": [
    "## 1. Lists\n",
    "\n",
    "Lists are the bedrock data structure in Python. Lists in Python are similar to arrays in C or Java, and behave similarly. There is a lot of subtlety, but this is intended to be hidden from the end user."
   ]
  },
  {
   "cell_type": "markdown",
   "metadata": {},
   "source": [
    "### List Basics\n",
    "\n",
    "Lists can contain any type of object, including integers, strings, floats, etc. They can also contain a mix of data types."
   ]
  },
  {
   "cell_type": "code",
   "execution_count": null,
   "metadata": {
    "collapsed": false
   },
   "outputs": [],
   "source": [
    "numbers = [3,5,2,8,5,7]\n",
    "names = ['Joe','Susy','Carl','Michael','Lucy','Erin']\n",
    "mixture = [3,'Sarah',2.52]"
   ]
  },
  {
   "cell_type": "markdown",
   "metadata": {},
   "source": [
    "Lists are indexed starting at 0; you can access a specific element of a list by number as below. If you choose an index that is too large for the length of the list, you will get an *IndexError*."
   ]
  },
  {
   "cell_type": "code",
   "execution_count": null,
   "metadata": {
    "collapsed": false
   },
   "outputs": [],
   "source": [
    "print(numbers[4])\n",
    "print(numbers[7])"
   ]
  },
  {
   "cell_type": "markdown",
   "metadata": {},
   "source": [
    "Lists have a length which is obtained using the `len` method. Note that because lists are indexed starting at 0, the maximum index of a list is `len(the_list)-1`. (For more on why it may be a good idea to have indices start at 0, check out [this short essay](http://www.cs.utexas.edu/users/EWD/transcriptions/EWD08xx/EWD831.html) from E.W. Dijkstra)."
   ]
  },
  {
   "cell_type": "code",
   "execution_count": null,
   "metadata": {
    "collapsed": false
   },
   "outputs": [],
   "source": [
    "print(numbers)\n",
    "print(len(numbers))\n",
    "print(numbers[len(numbers)-1])"
   ]
  },
  {
   "cell_type": "markdown",
   "metadata": {},
   "source": [
    "### Mutable vs. Immutable"
   ]
  },
  {
   "cell_type": "markdown",
   "metadata": {},
   "source": [
    "Lists are **mutable**, which means the contents of a specific list can change. Mutable vs. immutable is a very important distinction in data structures in Python. Tuples are an example of a data structure that is immutable. Here is an example of the difference between mutable and immutable."
   ]
  },
  {
   "cell_type": "code",
   "execution_count": null,
   "metadata": {
    "collapsed": false
   },
   "outputs": [],
   "source": [
    "# Create list, mutate, print.\n",
    "mutable_list = [8,6,7,5,3,0,9]\n",
    "mutable_list[1] = -2\n",
    "print(mutable_list)"
   ]
  },
  {
   "cell_type": "code",
   "execution_count": null,
   "metadata": {
    "collapsed": false
   },
   "outputs": [],
   "source": [
    "# Create tuple, try to mutate.\n",
    "immutable_type = (8,6,7,5,3,0,9)\n",
    "immutable_type[1] = -2"
   ]
  },
  {
   "cell_type": "markdown",
   "metadata": {},
   "source": [
    "### List Methods\n",
    "\n",
    "Lists have a built-in set of _methods_ that can be called to operate on a particular list. Many of these methods happen _in-place_, meaning there's no need to assign a new list in its place. A full list of these methods can be found [here](https://docs.python.org/3/tutorial/datastructures.html). Please note that depending on your use case, for some of these methods other data structures such as `deque` may be more efficient."
   ]
  },
  {
   "cell_type": "code",
   "execution_count": null,
   "metadata": {
    "collapsed": false
   },
   "outputs": [],
   "source": [
    "new_numbers = [1,6,3,7,6,8,2,0,19,4]\n",
    "new_numbers.append(17); print(new_numbers) # Append to the list."
   ]
  },
  {
   "cell_type": "code",
   "execution_count": null,
   "metadata": {
    "collapsed": false
   },
   "outputs": [],
   "source": [
    "new_numbers.extend([12,3,1]); print(new_numbers) # Extend the list - extend is often considered faster."
   ]
  },
  {
   "cell_type": "code",
   "execution_count": null,
   "metadata": {
    "collapsed": false
   },
   "outputs": [],
   "source": [
    "new_numbers = new_numbers + [7,8,9]; print(new_numbers) # Concatenation."
   ]
  },
  {
   "cell_type": "code",
   "execution_count": null,
   "metadata": {
    "collapsed": false
   },
   "outputs": [],
   "source": [
    "new_numbers.pop(); print(new_numbers) # Pop from the list.\n",
    "new_numbers.pop(0); print(new_numbers) # Pop from the front of the list - better to use deque."
   ]
  },
  {
   "cell_type": "markdown",
   "metadata": {},
   "source": [
    "Sorting takes place using [timsort](https://en.wikipedia.org/wiki/Timsort), Python's own sorting algorithm. Sorting is done in place, so there is no need to assign to a new list. This can be done using the `sorted` method."
   ]
  },
  {
   "cell_type": "code",
   "execution_count": null,
   "metadata": {
    "collapsed": false
   },
   "outputs": [],
   "source": [
    "new_numbers.sort(); print('new_numbers:', new_numbers)\n",
    "sorted_list = sorted(new_numbers); print('sorted_list:', sorted_list)"
   ]
  },
  {
   "cell_type": "markdown",
   "metadata": {},
   "source": [
    "We can also find the max and min, and wrap into mathematical functions."
   ]
  },
  {
   "cell_type": "code",
   "execution_count": null,
   "metadata": {
    "collapsed": false
   },
   "outputs": [],
   "source": [
    "print('sum of the list:', sum(new_numbers))\n",
    "print('max of the list:', max(new_numbers))\n",
    "print('min of the list:', min(new_numbers))"
   ]
  },
  {
   "cell_type": "markdown",
   "metadata": {},
   "source": [
    "### List slicing.\n",
    "\n",
    "List slicing is an easy way to extract elements from a list. The syntax is a[start:end:stop]. Remember that lists are indexed at 0, and the stop index is not included.\n",
    "\n",
    "We can slice the whole list:"
   ]
  },
  {
   "cell_type": "code",
   "execution_count": null,
   "metadata": {
    "collapsed": false
   },
   "outputs": [],
   "source": [
    "my_list = [9,8,7,6,5,4,3,2,1]\n",
    "\n",
    "print(my_list[0:])\n",
    "print(my_list[0:11]) # Note no index error."
   ]
  },
  {
   "cell_type": "markdown",
   "metadata": {},
   "source": [
    "Or we can select elements we want, by a certain step."
   ]
  },
  {
   "cell_type": "code",
   "execution_count": null,
   "metadata": {
    "collapsed": false
   },
   "outputs": [],
   "source": [
    "my_list[0:6:2]"
   ]
  },
  {
   "cell_type": "markdown",
   "metadata": {},
   "source": [
    "We can go backwards, and slice with negative indices in a number of different ways."
   ]
  },
  {
   "cell_type": "code",
   "execution_count": null,
   "metadata": {
    "collapsed": false
   },
   "outputs": [],
   "source": [
    "my_list[-1]"
   ]
  },
  {
   "cell_type": "code",
   "execution_count": null,
   "metadata": {
    "collapsed": false
   },
   "outputs": [],
   "source": [
    "my_list[:-1]"
   ]
  },
  {
   "cell_type": "code",
   "execution_count": null,
   "metadata": {
    "collapsed": false
   },
   "outputs": [],
   "source": [
    "my_list[-1:]"
   ]
  },
  {
   "cell_type": "markdown",
   "metadata": {},
   "source": [
    "Finally, we can reverse the list."
   ]
  },
  {
   "cell_type": "code",
   "execution_count": null,
   "metadata": {
    "collapsed": false
   },
   "outputs": [],
   "source": [
    "my_list[::-1]"
   ]
  },
  {
   "cell_type": "markdown",
   "metadata": {},
   "source": [
    "## 2. Iteration over lists.\n",
    "\n",
    "In Python, iteration happens differently from most languages.\n",
    "\n",
    "In languages like C, C++, or Java, iteration would look something like this (C below):\n",
    "```\n",
    "int array[10], array_size;\n",
    "array_size = sizeof(array)/sizeof(int);\n",
    "\n",
    "for(int i = 0; i < array_size; i++) {\n",
    "    do_something(array[i]);\n",
    "}\n",
    "```\n",
    "\n",
    "Note that in this iteration, **we loop over array elements by their index.** The Python equivalent is below - this is the _naive_ way to iterate in Python."
   ]
  },
  {
   "cell_type": "code",
   "execution_count": null,
   "metadata": {
    "collapsed": false
   },
   "outputs": [],
   "source": [
    "def do_something(a):\n",
    "    print(a+1)\n",
    "    \n",
    "for i in range(len(numbers)):\n",
    "    do_something(numbers[i])"
   ]
  },
  {
   "cell_type": "markdown",
   "metadata": {
    "collapsed": true
   },
   "source": [
    "**This is highly non-Pythonic - don't do it this way!** (unless you really have). The proper way is as follows: "
   ]
  },
  {
   "cell_type": "code",
   "execution_count": null,
   "metadata": {
    "collapsed": false
   },
   "outputs": [],
   "source": [
    "print(numbers)\n",
    "for number in numbers:\n",
    "    do_something(number)"
   ]
  },
  {
   "cell_type": "markdown",
   "metadata": {},
   "source": [
    "Many, many objects in Python have iteration built-in. This is a slightly nuanced topic, and much more detail can be found [here](http://stackoverflow.com/questions/9884132/what-exactly-are-pythons-iterator-iterable-and-iteration-protocols). In general, we can loop over any object with `__iter__` and `__next__` methods in the class definition (which is a lot of things):"
   ]
  },
  {
   "cell_type": "code",
   "execution_count": null,
   "metadata": {
    "collapsed": false
   },
   "outputs": [],
   "source": [
    "for char in 'abc':\n",
    "    print(char + ' is a letter.')"
   ]
  },
  {
   "cell_type": "code",
   "execution_count": null,
   "metadata": {
    "collapsed": false
   },
   "outputs": [],
   "source": [
    "for ministry in ('TXAUS','TNNAS','MIDET'):\n",
    "    print(ministry[0:2])"
   ]
  },
  {
   "cell_type": "code",
   "execution_count": null,
   "metadata": {
    "collapsed": false
   },
   "outputs": [],
   "source": [
    "for element in {'Ohio State': 30, 'Michigan': 24}:\n",
    "    print(element)"
   ]
  },
  {
   "cell_type": "code",
   "execution_count": null,
   "metadata": {
    "collapsed": false
   },
   "outputs": [],
   "source": [
    "string = 'Michigan has beaten Ohio State twice since 2000.'\n",
    "iterString = iter(string)\n",
    "print(iterString)\n",
    "print(next(iterString))"
   ]
  },
  {
   "cell_type": "code",
   "execution_count": null,
   "metadata": {
    "collapsed": false
   },
   "outputs": [],
   "source": [
    "for char in iterString:\n",
    "    print(char)\n",
    "    if char == 'g':\n",
    "        break"
   ]
  },
  {
   "cell_type": "markdown",
   "metadata": {},
   "source": [
    "Need to iterate over numbers? There's a generator for that! (Note that this can just be `range(5)` - also, observe that 5 is not printed)."
   ]
  },
  {
   "cell_type": "code",
   "execution_count": null,
   "metadata": {
    "collapsed": false
   },
   "outputs": [],
   "source": [
    "for i in range(0,5):\n",
    "    print(i)"
   ]
  },
  {
   "cell_type": "markdown",
   "metadata": {},
   "source": [
    "## 3. List Comprehensions\n",
    "\n",
    "List comprehensions are one of the coolest features of Python. They make looping over list elements fun, easy, and concise. See [here](https://en.wikipedia.org/wiki/List_comprehension) for more details on list comprehensions and how they are implemented in other languages such as Haskell.\n",
    "\n",
    "To understand list comprehensions, let's start by taking a list of names, sorting them, and extracting the first letter."
   ]
  },
  {
   "cell_type": "code",
   "execution_count": null,
   "metadata": {
    "collapsed": true
   },
   "outputs": [],
   "source": [
    "starting_list = ['Eda','Zach','Jason','Amy','Ryan','Anthony','Randy']\n",
    "starting_list.sort()"
   ]
  },
  {
   "cell_type": "markdown",
   "metadata": {},
   "source": [
    "Now let's write a for loop, starting with a blank list and append item by item."
   ]
  },
  {
   "cell_type": "code",
   "execution_count": null,
   "metadata": {
    "collapsed": false
   },
   "outputs": [],
   "source": [
    "first_letter = []\n",
    "for name in starting_list:\n",
    "    first_letter.append(name[0])\n",
    "print(first_letter)"
   ]
  },
  {
   "cell_type": "markdown",
   "metadata": {},
   "source": [
    "This is also non-Pythonic - instead of doing this, let's use a list comprehension as such:"
   ]
  },
  {
   "cell_type": "code",
   "execution_count": null,
   "metadata": {
    "collapsed": false
   },
   "outputs": [],
   "source": [
    "first_letter = [s[0] for s in starting_list]\n",
    "print(first_letter)"
   ]
  },
  {
   "cell_type": "markdown",
   "metadata": {},
   "source": [
    "We can include logic at the end of the list comprehension to filter items we don't want."
   ]
  },
  {
   "cell_type": "code",
   "execution_count": null,
   "metadata": {
    "collapsed": false
   },
   "outputs": [],
   "source": [
    "new_first_letter = [s[0] for s in starting_list if s[0] != 'R']\n",
    "print(new_first_letter)"
   ]
  },
  {
   "cell_type": "markdown",
   "metadata": {},
   "source": [
    "Let's test these two approaches on larger inputs of data."
   ]
  },
  {
   "cell_type": "code",
   "execution_count": null,
   "metadata": {
    "collapsed": false
   },
   "outputs": [],
   "source": [
    "import datetime, random, string\n",
    "\n",
    "# Create set of random words.\n",
    "less_words = [''.join(random.choice(string.ascii_uppercase) for _ in range(5)) for _ in range(10)]\n",
    "print(less_words)\n",
    "\n",
    "words = [''.join(random.choice(string.ascii_uppercase) for _ in range(5)) for _ in range(1000000)]"
   ]
  },
  {
   "cell_type": "code",
   "execution_count": null,
   "metadata": {
    "collapsed": false
   },
   "outputs": [],
   "source": [
    "start = datetime.datetime.now()\n",
    "\n",
    "first_letters_for = []\n",
    "for word in words:\n",
    "    first_letters_for.append(word[0])\n",
    "\n",
    "end = datetime.datetime.now()\n",
    "\n",
    "print('time taken:', end - start)"
   ]
  },
  {
   "cell_type": "code",
   "execution_count": null,
   "metadata": {
    "collapsed": false
   },
   "outputs": [],
   "source": [
    "start = datetime.datetime.now()\n",
    "\n",
    "first_letters_lc = [word[0] for word in words]\n",
    "\n",
    "end = datetime.datetime.now()\n",
    "\n",
    "print('time taken:', end - start)"
   ]
  },
  {
   "cell_type": "markdown",
   "metadata": {
    "collapsed": true
   },
   "source": [
    "## 4. Functions to help out.\n",
    "\n",
    "Python provides us a number of nice functions to aid in iteration. Let's examine some here.\n",
    "\n",
    "If you want a counter to go along with your list, you can use enumerate:"
   ]
  },
  {
   "cell_type": "code",
   "execution_count": null,
   "metadata": {
    "collapsed": false
   },
   "outputs": [],
   "source": [
    "my_list = ['D','A','R','Q']\n",
    "for x, y in enumerate(my_list):\n",
    "    print(x,y)"
   ]
  },
  {
   "cell_type": "markdown",
   "metadata": {},
   "source": [
    "The zip function iterates over two lists with elements combined pairwise:"
   ]
  },
  {
   "cell_type": "code",
   "execution_count": null,
   "metadata": {
    "collapsed": false
   },
   "outputs": [],
   "source": [
    "second_list = [1,2,1,6]\n",
    "for x, y in zip(my_list, second_list):\n",
    "    print(x,y)"
   ]
  },
  {
   "cell_type": "markdown",
   "metadata": {},
   "source": [
    "Itertools.product takes the cartesian product of two lists. This avoids doing two for loops."
   ]
  },
  {
   "cell_type": "code",
   "execution_count": null,
   "metadata": {
    "collapsed": false
   },
   "outputs": [],
   "source": [
    "first_list = [1,2,3]\n",
    "second_list = ['red','green']\n",
    "\n",
    "# Nasty double for-loop\n",
    "for f in first_list:\n",
    "    for s in second_list:\n",
    "        print(f,s)"
   ]
  },
  {
   "cell_type": "code",
   "execution_count": null,
   "metadata": {
    "collapsed": false
   },
   "outputs": [],
   "source": [
    "import itertools\n",
    "\n",
    "for x, y in itertools.product(first_list, second_list):\n",
    "    print(x,y)"
   ]
  },
  {
   "cell_type": "markdown",
   "metadata": {},
   "source": [
    "Let's take a list of students in a classroom and assign them number IDs in alphabetical order."
   ]
  },
  {
   "cell_type": "code",
   "execution_count": null,
   "metadata": {
    "collapsed": true
   },
   "outputs": [],
   "source": [
    "students = ['Smith, Joe', 'Doe, John', 'Q, Suzie', 'Underwood, Frank', 'Eisenhower, Dwight', 'Anthony, Susan B.']"
   ]
  },
  {
   "cell_type": "code",
   "execution_count": null,
   "metadata": {
    "collapsed": true
   },
   "outputs": [],
   "source": []
  }
 ],
 "metadata": {
  "anaconda-cloud": {},
  "kernelspec": {
   "display_name": "Python [Root]",
   "language": "python",
   "name": "Python [Root]"
  },
  "language_info": {
   "codemirror_mode": {
    "name": "ipython",
    "version": 3
   },
   "file_extension": ".py",
   "mimetype": "text/x-python",
   "name": "python",
   "nbconvert_exporter": "python",
   "pygments_lexer": "ipython3",
   "version": "3.5.2"
  }
 },
 "nbformat": 4,
 "nbformat_minor": 0
}
